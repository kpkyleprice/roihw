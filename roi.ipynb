{
 "cells": [
  {
   "cell_type": "code",
   "execution_count": 1,
   "id": "7b496d69",
   "metadata": {},
   "outputs": [
    {
     "name": "stdout",
     "output_type": "stream",
     "text": [
      "What is your total invesment for this property? $100\n",
      "What is the total monthly income? $1000\n",
      "Add your total monthly expenses for this property: $200\n",
      "Your monthly Cash flow: $800. Your Annual Cash Flow: $9,600.00\n",
      "Your Cash on Cash ROI is 9600.0%\n"
     ]
    }
   ],
   "source": [
    "class ROIcalc:\n",
    "    def __init__(self, monthly_income, added_monthly_expenses, total_investment):\n",
    "        self.monthly_income = monthly_income\n",
    "        self.added_monthly_expenses = added_monthly_expenses\n",
    "        self.total_investment = total_investment\n",
    "\n",
    "    def monthly_cash_flow(self):\n",
    "        return self.monthly_income - self.added_monthly_expenses\n",
    "    def cash_on_cash_roi(self):\n",
    "        annual_cash_flow = self.monthly_cash_flow() * 12\n",
    "        return annual_cash_flow / self.total_investment\n",
    "           \n",
    "def roi_run():\n",
    "    total_investment = int(input(\"What is your total invesment for this property? $\"))\n",
    "    monthly_income = int(input(\"What is the total monthly income? $\"))\n",
    "    added_monthly_expenses = int(input(\"Add your total monthly expenses for this property: $\"))\n",
    "    prop = ROIcalc(monthly_income, added_monthly_expenses, total_investment)\n",
    "    cash_flow = prop.monthly_cash_flow()\n",
    "    cash_on_cash_roi = prop.cash_on_cash_roi()\n",
    "    print(f\"Your monthly Cash flow: ${cash_flow}. Your Annual Cash Flow: ${cash_flow * 12:,.2f}\\nYour Cash on Cash ROI is {cash_on_cash_roi * 100}%\")\n",
    "    \n",
    "roi_run()"
   ]
  },
  {
   "cell_type": "code",
   "execution_count": null,
   "id": "5cda7be7",
   "metadata": {},
   "outputs": [],
   "source": []
  }
 ],
 "metadata": {
  "kernelspec": {
   "display_name": "Python 3 (ipykernel)",
   "language": "python",
   "name": "python3"
  },
  "language_info": {
   "codemirror_mode": {
    "name": "ipython",
    "version": 3
   },
   "file_extension": ".py",
   "mimetype": "text/x-python",
   "name": "python",
   "nbconvert_exporter": "python",
   "pygments_lexer": "ipython3",
   "version": "3.9.13"
  }
 },
 "nbformat": 4,
 "nbformat_minor": 5
}
